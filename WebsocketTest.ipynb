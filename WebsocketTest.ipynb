{
 "cells": [
  {
   "cell_type": "code",
   "execution_count": 18,
   "metadata": {},
   "outputs": [],
   "source": [
    "import os\n",
    "import time\n",
    "from threading import Thread\n",
    "\n",
    "from jupyter_core.paths import jupyter_data_dir\n",
    "import notebook\n",
    "import IPython\n",
    "from IPython.display import display, Javascript\n",
    "\n",
    "import tornado.httpserver\n",
    "import tornado.websocket\n",
    "import tornado.ioloop\n",
    "import tornado.web\n",
    "import socket\n",
    "import json\n",
    "import asyncio\n",
    "import logging\n",
    "\n",
    "def find_free_port():\n",
    "    s = socket.socket()\n",
    "    s.bind(('',0)) # find an available port\n",
    "    return s.getsockname()[1]\n",
    "\n",
    "__SOCKET_PORT = find_free_port()\n",
    "\n",
    "wsConnected = False\n",
    "\n",
    "class WSHandler(tornado.websocket.WebSocketHandler):\n",
    "    def open(self):\n",
    "        global wsConnected\n",
    "        wsConnected = True\n",
    "        print(\"Websocket Open\")\n",
    "\n",
    "    def on_message(self, message):\n",
    "        #ws_queue.put(message)\n",
    "        pass\n",
    "\n",
    "    def on_close(self):\n",
    "        print(\"Close Websocket\")\n",
    "        self.stop_tornado()\n",
    "\n",
    "    def stop_tornado(self):\n",
    "        ioloop = tornado.ioloop.IOLoop.instance()\n",
    "        ioloop.add_callback(ioloop.stop)\n",
    "\n",
    "    def check_origin(self, origin):\n",
    "        return True\n",
    "\n",
    "def start_server():\n",
    "    asyncio.set_event_loop(asyncio.new_event_loop())\n",
    "    application = tornado.web.Application([(r'/ws', WSHandler),])\n",
    "    http_server = tornado.httpserver.HTTPServer(application)\n",
    "    http_server.listen(__SOCKET_PORT)\n",
    "    Log = logging.getLogger('tornado.access')\n",
    "    level = logging.getLevelName('WARN')\n",
    "    Log.setLevel(level)\n",
    "    tornado.ioloop.IOLoop.instance().start()\n",
    "\n",
    "\n",
    "# Removed check for ipykernel version because the old check\n",
    "# was for 5.0.0 but this works with 4.x too...and 4.x is the first\n",
    "# version of ipykernel\n",
    "t = Thread(target=start_server, args=())\n",
    "t.start()\n"
   ]
  },
  {
   "cell_type": "code",
   "execution_count": 19,
   "metadata": {},
   "outputs": [
    {
     "data": {
      "text/plain": [
       "50107"
      ]
     },
     "execution_count": 19,
     "metadata": {},
     "output_type": "execute_result"
    }
   ],
   "source": [
    "__SOCKET_PORT"
   ]
  },
  {
   "cell_type": "code",
   "execution_count": 23,
   "metadata": {},
   "outputs": [
    {
     "data": {
      "application/javascript": [
       "var ws = null\n",
       "var isopen = false\n",
       "var intervalID = null\n",
       "\n",
       "        // create websocket instance\n",
       "        var port = 50107\n",
       "        var uri = '/ws'\n",
       "        var loc = document.location, new_uri, url;\n",
       "        if (loc.protocol === \"https:\") {\n",
       "            new_uri = \"wss:\";\n",
       "        } else {\n",
       "            new_uri = \"ws:\";\n",
       "        }\n",
       "        if (document.location.hostname.includes(\"mybinder\")){\n",
       "            new_uri += '//' + document.location.hostname + document.location.pathname + uri;\n",
       "            url = new_uri.replace(\"notebooks\", \"proxy/\"+port);\n",
       "        }\n",
       "        else {\n",
       "            new_uri += '//' + document.location.hostname + ':' + port + uri;\n",
       "            url = new_uri;\n",
       "        }\n",
       "        ws = new WebSocket(url);\n",
       "\n",
       "        //ws = new WebSocket(\"ws://localhost:\" + port + uri);\n",
       "        //ws = new WebSocket(\"ws://\"+window.location.hostname+\":\" + port + uri);\n",
       "        //ws = new WebSocket(\"wss://\"+window.location.hostname+\":\" + port + uri, {protocolVersion: 8, origin: \"https://\"+window.location.hostname+\":\" + port + uri, rejectUnauthorized: false});\n",
       "\n",
       "        ws.binaryType = \"arraybuffer\";\n",
       "\n",
       "        // Handle incoming websocket message callback\n",
       "        ws.onmessage = function(evt) {\n",
       "            console.log(\"WebSocket Message Received: \" + evt.data)\n",
       "        };\n",
       " \n",
       "        // Close Websocket callback\n",
       "        ws.onclose = function(evt) {\n",
       "            ws = null\n",
       "            isopen = false\n",
       "            console.log(\"onclose intervalID = \",intervalID)\n",
       "            clearInterval(intervalID);\n",
       "            console.log(\"***WebSocket Connection Closed***\");\n",
       "        };\n",
       " \n",
       "        // Open Websocket callback\n",
       "        ws.onopen = function(evt) {\n",
       "            isopen = true\n",
       "            console.log(\"***WebSocket Connection Opened***\");\n",
       "            intervalID = setInterval(function(){if (ws.readyState === WebSocket.OPEN) {ws.send(\"Hello World\");console.log(\"Sent 'Hello World' to websocket\");}else{console.log(\"Websocket is not OPEN\")}}, 5000);\n",
       "            console.log(\"open intervalID = \",intervalID)\n",
       "            setTimeout(function(){ ws.close();console.log(\"Closing Websocket\"); }, 30000);\n",
       "\n",
       "        };\n",
       "\n",
       "        ws.onerror = function(event) {\n",
       "            console.error(\"WebSocket error observed:\", event);\n",
       "        };\n"
      ],
      "text/plain": [
       "<IPython.core.display.Javascript object>"
      ]
     },
     "metadata": {},
     "output_type": "display_data"
    }
   ],
   "source": [
    "%%javascript\n",
    "var ws = null\n",
    "var isopen = false\n",
    "var intervalID = null\n",
    "\n",
    "        // create websocket instance\n",
    "        var port = 50107\n",
    "        var uri = '/ws'\n",
    "        var loc = document.location, new_uri, url;\n",
    "        if (loc.protocol === \"https:\") {\n",
    "            new_uri = \"wss:\";\n",
    "        } else {\n",
    "            new_uri = \"ws:\";\n",
    "        }\n",
    "        if (document.location.hostname.includes(\"localhost\")){\n",
    "            new_uri += '//' + document.location.hostname + ':' + port + uri;\n",
    "            url = new_uri;\n",
    "        }\n",
    "        else {\n",
    "            new_uri += '//' + document.location.hostname + document.location.pathname + uri;\n",
    "            url = new_uri.replace(\"notebooks\", \"proxy/\"+port);\n",
    "        }\n",
    "        ws = new WebSocket(url);\n",
    "\n",
    "        ws.binaryType = \"arraybuffer\";\n",
    "\n",
    "        // Handle incoming websocket message callback\n",
    "        ws.onmessage = function(evt) {\n",
    "            console.log(\"WebSocket Message Received: \" + evt.data)\n",
    "        };\n",
    " \n",
    "        // Close Websocket callback\n",
    "        ws.onclose = function(evt) {\n",
    "            ws = null\n",
    "            isopen = false\n",
    "            console.log(\"onclose intervalID = \",intervalID)\n",
    "            clearInterval(intervalID);\n",
    "            console.log(\"***WebSocket Connection Closed***\");\n",
    "        };\n",
    " \n",
    "        // Open Websocket callback\n",
    "        ws.onopen = function(evt) {\n",
    "            isopen = true\n",
    "            console.log(\"***WebSocket Connection Opened***\");\n",
    "            intervalID = setInterval(function(){if (ws.readyState === WebSocket.OPEN) {ws.send(\"Hello World\");console.log(\"Sent 'Hello World' to websocket\");}else{console.log(\"Websocket is not OPEN\")}}, 5000);\n",
    "            console.log(\"open intervalID = \",intervalID)\n",
    "            setTimeout(function(){ ws.close();console.log(\"Closing Websocket\"); }, 30000);\n",
    "\n",
    "        };\n",
    "\n",
    "        ws.onerror = function(event) {\n",
    "            console.error(\"WebSocket error observed:\", event);\n",
    "        };\n"
   ]
  },
  {
   "cell_type": "code",
   "execution_count": 21,
   "metadata": {},
   "outputs": [
    {
     "data": {
      "text/plain": [
       "True"
      ]
     },
     "execution_count": 21,
     "metadata": {},
     "output_type": "execute_result"
    },
    {
     "name": "stdout",
     "output_type": "stream",
     "text": [
      "Close Websocket\n"
     ]
    }
   ],
   "source": [
    "t.is_alive()"
   ]
  },
  {
   "cell_type": "code",
   "execution_count": null,
   "metadata": {},
   "outputs": [],
   "source": []
  }
 ],
 "metadata": {
  "kernelspec": {
   "display_name": "Python 3",
   "language": "python",
   "name": "python3"
  },
  "language_info": {
   "codemirror_mode": {
    "name": "ipython",
    "version": 3
   },
   "file_extension": ".py",
   "mimetype": "text/x-python",
   "name": "python",
   "nbconvert_exporter": "python",
   "pygments_lexer": "ipython3",
   "version": "3.6.6"
  }
 },
 "nbformat": 4,
 "nbformat_minor": 2
}
