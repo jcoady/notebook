{
 "cells": [
  {
   "cell_type": "markdown",
   "metadata": {
    "colab_type": "text",
    "id": "uGRz9iW3qC1x"
   },
   "source": [
    "# MuZero CartPole VPython\n",
    "\n",
    "This notebook runs the MuZero RL algorithm from Google Deep Mind in the cartpole environment and visualized in VPython.\n"
   ]
  },
  {
   "cell_type": "code",
   "execution_count": null,
   "metadata": {
    "colab": {
     "base_uri": "https://localhost:8080/",
     "height": 1000
    },
    "colab_type": "code",
    "executionInfo": {
     "elapsed": 2028765,
     "status": "ok",
     "timestamp": 1596398137679,
     "user": {
      "displayName": "Sina Bagherinezhad",
      "photoUrl": "https://lh3.googleusercontent.com/a-/AOh14Gg0M0q3-4wmzD32zN50yrO-Lp5vSiEUYTYAkFBNCg=s64",
      "userId": "10828062040523127623"
     },
     "user_tz": -270
    },
    "id": "y7ozabyBmk6z",
    "outputId": "bdb8204f-4045-4b41-dae4-f9ea8aba8501"
   },
   "outputs": [],
   "source": [
    "from vpython import canvas, box, cylinder, vector, color, rate\n",
    "from helper import SharedStorage, MuZeroConfig, ReplayBuffer, make_CartPole_config, CartPole, CartPoleNetwork\n",
    "from self_play import run_selfplay, run_eval\n",
    "from training import train_network\n",
    "\n",
    "class CartPoleVPython(CartPole):\n",
    "\n",
    "    def __init__(self, discount: float):\n",
    "        global b,c,a\n",
    "        super().__init__(discount)\n",
    "        observation = self.observations[0]\n",
    "        b.visible = False\n",
    "        c.visible = False\n",
    "        del b\n",
    "        del c\n",
    "        b = box(pos=vector(0,-0.5,0), color=color.green)\n",
    "        c = cylinder(pos=vector(0,0,0), axis=vector(0,4,0), radius=0.1, )\n",
    "        b.pos.x = c.pos.x = observation[0]\n",
    "        a = observation[2]\n",
    "        c.rotate(angle=a, axis=vector(0,0,1))\n",
    "\n",
    "\n",
    "    def step(self, action) -> int:\n",
    "        global b,c,a\n",
    "        observation, reward, done, _ = self.env.step(action.index)\n",
    "        self.observations += [observation]\n",
    "        self.done = done\n",
    "        rate(1000)\n",
    "        b.pos.x = c.pos.x = observation[0]\n",
    "        c.rotate(angle=-a, axis=vector(0,0,1))\n",
    "        a = -observation[2]\n",
    "        c.rotate(angle=a, axis=vector(0,0,1))\n",
    "\n",
    "        return reward\n",
    "\n",
    "def make_CartPoleVPython_config() -> MuZeroConfig:\n",
    "    def visit_softmax_temperature(num_moves, training_steps):\n",
    "        return 1.0\n",
    "\n",
    "    return MuZeroConfig(\n",
    "        game=CartPoleVPython,\n",
    "        nb_training_loop=20,\n",
    "        nb_episodes=20,\n",
    "        nb_epochs=20,\n",
    "        network_args={'action_size': 2,\n",
    "                      'state_size': 4,\n",
    "                      'representation_size': 4,\n",
    "                      'max_value': 500},\n",
    "        network=CartPoleNetwork,\n",
    "        action_space_size=2,\n",
    "        max_moves=1000,\n",
    "        discount=0.99,\n",
    "        dirichlet_alpha=0.25,\n",
    "        num_simulations=11,  # Odd number perform better in eval mode\n",
    "        batch_size=512,\n",
    "        td_steps=10,\n",
    "        visit_softmax_temperature_fn=visit_softmax_temperature,\n",
    "        lr=0.05)\n",
    "\n",
    "\n",
    "# MuZero training is split into two independent parts: Network training and\n",
    "# self-play data generation.\n",
    "# These two parts only communicate by transferring the latest network checkpoint\n",
    "# from the training to the self-play, and the finished games from the self-play\n",
    "# to the training.\n",
    "train_scores = []\n",
    "eval_scores = []\n",
    "def muzero(config: MuZeroConfig):\n",
    "\n",
    "    storage = SharedStorage(config.new_network(), config.uniform_network(), config.new_optimizer())\n",
    "    replay_buffer = ReplayBuffer(config)\n",
    "\n",
    "    for loop in range(config.nb_training_loop):\n",
    "        print(\"Training loop\", loop)\n",
    "        score_train = run_selfplay(config, storage, replay_buffer, config.nb_episodes)\n",
    "        train_network(config, storage, replay_buffer, config.nb_epochs)\n",
    "        score_eval = run_eval(config, storage, 20)\n",
    "\n",
    "        print(\"Train score:\", score_train)\n",
    "        print(\"Eval score:\", score_eval)\n",
    "        print(f\"MuZero played {config.nb_episodes * (loop + 1)} \"\n",
    "              f\"episodes and trained for {config.nb_epochs * (loop + 1)} epochs.\\n\")\n",
    "        train_scores.append(score_train)\n",
    "        eval_scores.append(score_eval)\n",
    "\n",
    "    return storage.latest_network()\n",
    "\n",
    "scene = canvas(range=5)\n",
    "b = box(pos=vector(0,-0.5,0),color=color.green)\n",
    "c = cylinder(pos=vector(0,0,0), axis=vector(0,4,0), radius=0.1)\n",
    "a = 0\n",
    "wire = cylinder(pos=vector(-10,-0.5,0), axis=vector(20,0,0), radius=0.02, color=color.white)\n",
    "display(scene)\n",
    "config = make_CartPoleVPython_config()\n",
    "\n",
    "latest_network = muzero(config);"
   ]
  },
  {
   "cell_type": "code",
   "execution_count": null,
   "metadata": {
    "colab": {
     "base_uri": "https://localhost:8080/",
     "height": 279
    },
    "colab_type": "code",
    "executionInfo": {
     "elapsed": 1091,
     "status": "ok",
     "timestamp": 1596399096946,
     "user": {
      "displayName": "Sina Bagherinezhad",
      "photoUrl": "https://lh3.googleusercontent.com/a-/AOh14Gg0M0q3-4wmzD32zN50yrO-Lp5vSiEUYTYAkFBNCg=s64",
      "userId": "10828062040523127623"
     },
     "user_tz": -270
    },
    "id": "agqqJD6_wAvn",
    "outputId": "ab73f4fe-301e-4018-f1e3-8c23b8bbe631"
   },
   "outputs": [],
   "source": [
    "import matplotlib.pyplot as plt\n",
    "\n",
    "plt.plot(train_scores, color=\"red\")\n",
    "plt.plot(eval_scores, color=\"blue\")\n",
    "plt.xticks(range(20))\n",
    "plt.xlabel('Loops')\n",
    "plt.ylabel('Score')\n",
    "plt.show()"
   ]
  },
  {
   "cell_type": "code",
   "execution_count": null,
   "metadata": {},
   "outputs": [],
   "source": [
    "from vpython import canvas, box, cylinder, vector, color\n",
    "\n",
    "scene = canvas(range=5)\n",
    "b = box(pos=vector(0,-0.5,0),color=color.green)\n",
    "display(scene)\n",
    "play_game(config, latest_network);"
   ]
  }
 ],
 "metadata": {
  "@webio": {
   "lastCommId": null,
   "lastKernelId": null
  },
  "accelerator": "GPU",
  "colab": {
   "collapsed_sections": [],
   "name": "notebook.ipynb",
   "provenance": []
  },
  "kernelspec": {
   "display_name": "Python 3",
   "language": "python",
   "name": "python3"
  },
  "language_info": {
   "codemirror_mode": {
    "name": "ipython",
    "version": 3
   },
   "file_extension": ".py",
   "mimetype": "text/x-python",
   "name": "python",
   "nbconvert_exporter": "python",
   "pygments_lexer": "ipython3",
   "version": "3.7.9"
  }
 },
 "nbformat": 4,
 "nbformat_minor": 1
}
